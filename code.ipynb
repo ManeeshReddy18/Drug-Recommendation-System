{
 "cells": [
  {
   "cell_type": "code",
   "execution_count": 3,
   "metadata": {},
   "outputs": [
    {
     "name": "stdout",
     "output_type": "stream",
     "text": [
      "In the quaint town of Willow Creek, where secrets whisper through the cobblestone streets, there existed an extraordinary backpack. It belonged to Emily, an imaginative and curious twelve-year-old.\n",
      "\n",
      "The backpack was not just an ordinary piece of luggage; it was a portal to a realm of enchantment. Its emerald-green fabric shimmered with an ethereal glow, and its leather straps were adorned with intricate runes.\n",
      "\n",
      "One fateful afternoon, as Emily was exploring the attic of her grandmother's cottage, she stumbled upon the backpack tucked away in a dusty corner. Her heart skipped a beat as she unzipped its compartment.\n",
      "\n",
      "To her astonishment, the backpack contained an array of magical objects. There was a shimmering compass that always pointed towards adventure, a quill that could write poetry filled with whimsy, and a pocket watch that allowed her to rewind or fast-forward time.\n",
      "\n",
      "Overjoyed, Emily strapped on the backpack and set off on a series of incredible adventures. She sailed through the clouds on a winged skateboard, visited hidden realms where talking animals shared ancient wisdom, and even traveled back in time to meet Leonardo da Vinci.\n",
      "\n",
      "However, the backpack's magic came with a price. Emily had to use it wisely, for it could not distinguish between good and evil. She learned that every wish she made had consequences, both positive and negative.\n",
      "\n",
      "One day, Emily used the backpack's powers to help a group of lost children. But her compassion was misplaced when she rescued an injured serpent, which turned out to be an evil sorcerer in disguise. The sorcerer threatened to destroy Willow Creek unless Emily surrendered the backpack.\n",
      "\n",
      "Emily faced a terrible choice. She could give up the backpack and its magical abilities, or she could risk the lives of her friends and family. With a heavy heart, she chose to sacrifice the backpack.\n",
      "\n",
      "As she handed the emerald-green satchel to the sorcerer, she felt a wave of sadness wash over her. But deep down, she knew that she had made the right decision. The true magic of the backpack lay not in its powers, but in the lessons it had taught her about wisdom, responsibility, and the power of choice.\n",
      "\n",
      "And so, the magic backpack disappeared from Willow Creek, leaving behind only a legend that was whispered among the townsfolk for generations to come. And Emily, the imaginative girl who had once possessed it, became known as the wise woman who had chosen bravery over enchantment.\n"
     ]
    }
   ],
   "source": [
    "import os\n",
    "import google.generativeai as genai\n",
    "\n",
    "genai.configure(api_key=os.getenv('GEMINI_API_KEY'))\n",
    "\n",
    "model = genai.GenerativeModel('gemini-pro')\n",
    "\n",
    "prompt = \"Write a story about a magic backpack.\"\n",
    "response = model.generate_content(prompt)\n",
    "\n",
    "print(response.text) "
   ]
  },
  {
   "cell_type": "code",
   "execution_count": 7,
   "metadata": {},
   "outputs": [
    {
     "name": "stdout",
     "output_type": "stream",
     "text": [
      "Recommendations:\n",
      "**Disease Name:** Type 1 Diabetes\n",
      "\n",
      "**Medication:**\n",
      "\n",
      "* Insulin: Dosage and type determined by a healthcare professional based on individual needs.\n",
      "\n",
      "**Precautions:**\n",
      "\n",
      "* Monitor blood sugar levels regularly.\n",
      "* Wear a medical ID bracelet or necklace.\n",
      "* Carry glucose tablets or candy to treat hypoglycemia (low blood sugar).\n",
      "* Be aware of signs and symptoms of diabetic ketoacidosis (DKA) and seek immediate medical attention if needed.\n",
      "\n",
      "**Diet Recommendations:**\n",
      "\n",
      "* Focus on consuming whole, unprocessed foods.\n",
      "* Include plenty of fruits, vegetables, and whole grains.\n",
      "* Limit sugary drinks and processed foods.\n",
      "* Choose lean protein sources.\n",
      "* Make gradual changes to diet to prevent gastrointestinal upset.\n",
      "* Consult with a registered dietitian for personalized advice.\n",
      "\n",
      "**Other Recommendations:**\n",
      "\n",
      "* Engage in regular physical activity.\n",
      "* Manage stress.\n",
      "* Get adequate sleep.\n",
      "* Build a support system.\n",
      "* Follow up with a healthcare professional regularly for monitoring and support.\n"
     ]
    }
   ],
   "source": [
    "import os\n",
    "import google.generativeai as genai\n",
    "\n",
    "# Configure the Gemini API with the API key\n",
    "genai.configure(api_key=os.getenv('GEMINI_API_KEY'))\n",
    "\n",
    "# Use the correct model identifier, depending on the API's actual model name\n",
    "model = genai.GenerativeModel('gemini-pro')\n",
    "\n",
    "# Function to generate recommendations based on symptoms input\n",
    "def get_recommendations(symptoms):\n",
    "    # Define a more specific prompt to ask the model for disease prediction and recommendations\n",
    "    prompt = f\"Given the following symptoms, predict the disease and provide recommendations:\\nSymptoms: {symptoms}\\nProvide the disease name, medication, dosage, precautions, and diet recommendations.\"\n",
    "\n",
    "    # Generate content using the model based on the prompt\n",
    "    response = model.generate_content(prompt)\n",
    "\n",
    "    # Extract the response text and print it\n",
    "    recommendations = response.text.strip()\n",
    "\n",
    "    return recommendations\n",
    "\n",
    "# Example: User input for symptoms\n",
    "symptoms_input = input(\"Enter symptoms: \")\n",
    "\n",
    "# Get the recommendations based on user input\n",
    "recommendations = get_recommendations(symptoms_input)\n",
    "\n",
    "# Print the recommendations\n",
    "print(\"Recommendations:\")\n",
    "print(recommendations)\n"
   ]
  },
  {
   "cell_type": "code",
   "execution_count": null,
   "metadata": {},
   "outputs": [
    {
     "data": {
      "text/html": [
       "<a href='recommendations.pdf' target='_blank'>recommendations.pdf</a><br>"
      ],
      "text/plain": [
       "d:\\Yashas New Development Projects\\Drug recommendation\\CODE\\streamlit\\recommendations.pdf"
      ]
     },
     "execution_count": 14,
     "metadata": {},
     "output_type": "execute_result"
    }
   ],
   "source": [
    "import os\n",
    "import google.generativeai as genai\n",
    "from reportlab.lib.pagesizes import letter\n",
    "from reportlab.pdfgen import canvas\n",
    "import io\n",
    "from IPython.display import FileLink\n",
    "\n",
    "# Configure the Gemini API with the API key\n",
    "genai.configure(api_key=os.getenv('GEMINI_API_KEY'))\n",
    "\n",
    "# Use the correct model identifier, depending on the API's actual model name\n",
    "model = genai.GenerativeModel('gemini-pro')\n",
    "\n",
    "# Function to generate recommendations based on symptoms input\n",
    "def get_recommendations(symptoms):\n",
    "    # Define a more specific prompt to ask the model for disease prediction and recommendations\n",
    "    prompt = f\"Given the following symptoms, predict the disease and provide recommendations:\\nSymptoms: {symptoms}\\nProvide the disease name, medication, dosage, precautions, and diet recommendations.\"\n",
    "\n",
    "    # Generate content using the model based on the prompt\n",
    "    response = model.generate_content(prompt)\n",
    "\n",
    "    # Extract the response text\n",
    "    recommendations = response.text.strip()\n",
    "\n",
    "    return recommendations\n",
    "\n",
    "# Function to create a PDF and save it to a file\n",
    "def generate_pdf(recommendations, filename=\"recommendations.pdf\"):\n",
    "    # Create a BytesIO buffer to hold the PDF in memory\n",
    "    buffer = io.BytesIO()\n",
    "    c = canvas.Canvas(buffer, pagesize=letter)\n",
    "\n",
    "    # Set up the PDF content\n",
    "    c.drawString(100, 750, \"Disease Prediction and Recommendations\")\n",
    "    c.drawString(100, 730, \"-------------------------------------------------\")\n",
    "    c.drawString(100, 710, f\"Recommendations:\")\n",
    "    \n",
    "    # Add the recommendations text to the PDF\n",
    "    text_object = c.beginText(100, 6900)\n",
    "    text_object.setFont(\"Helvetica\", 10)\n",
    "    text_object.textLines(recommendations)\n",
    "    \n",
    "    c.drawText(text_object)\n",
    "\n",
    "    # Finalize the PDF\n",
    "    c.showPage()\n",
    "    c.save()\n",
    "\n",
    "    # Save the PDF to a file\n",
    "    with open(filename, \"wb\") as f:\n",
    "        f.write(buffer.getvalue())\n",
    "\n",
    "    return filename\n",
    "\n",
    "# Example: User input for symptoms\n",
    "symptoms_input = \"\"\"Fever.\n",
    "Chills.\n",
    "Congestion.\n",
    "Cough.\n",
    "Fatigue.\n",
    "Muscle aches and headache.\"\"\"  # Replace this with dynamic input if needed\n",
    "recommendations = get_recommendations(symptoms_input)\n",
    "\n",
    "# Generate the PDF containing the recommendations\n",
    "pdf_filename = generate_pdf(recommendations)\n",
    "\n",
    "# Provide a download link for the PDF file\n",
    "FileLink(pdf_filename)\n"
   ]
  },
  {
   "cell_type": "code",
   "execution_count": null,
   "metadata": {},
   "outputs": [],
   "source": []
  }
 ],
 "metadata": {
  "kernelspec": {
   "display_name": "streamlit",
   "language": "python",
   "name": "python3"
  },
  "language_info": {
   "codemirror_mode": {
    "name": "ipython",
    "version": 3
   },
   "file_extension": ".py",
   "mimetype": "text/x-python",
   "name": "python",
   "nbconvert_exporter": "python",
   "pygments_lexer": "ipython3",
   "version": "3.10.16"
  }
 },
 "nbformat": 4,
 "nbformat_minor": 2
}
